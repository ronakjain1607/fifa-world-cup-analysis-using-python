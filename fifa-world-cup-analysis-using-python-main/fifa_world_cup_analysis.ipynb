{
  "nbformat": 4,
  "nbformat_minor": 0,
  "metadata": {
    "colab": {
      "provenance": []
    },
    "kernelspec": {
      "name": "python3",
      "display_name": "Python 3"
    },
    "language_info": {
      "name": "python"
    }
  },
  "cells": [
    {
      "cell_type": "code",
      "source": [
        "import numpy as np\n",
        "import pandas as pd"
      ],
      "metadata": {
        "id": "9021k7i0lzD2"
      },
      "execution_count": 1,
      "outputs": []
    },
    {
      "cell_type": "code",
      "execution_count": 3,
      "metadata": {
        "id": "TcGtVWCXPHd4"
      },
      "outputs": [],
      "source": [
        "world_cup=pd.read_csv(\"/content/world_cup.csv\")\n",
        "matches=pd.read_csv(\"/content/matches_1930_2022.csv\")\n",
        "rank=pd.read_csv(\"/content/fifa_ranking_2022-10-06.csv\")"
      ]
    },
    {
      "cell_type": "code",
      "source": [
        "world_cup.head()\n"
      ],
      "metadata": {
        "colab": {
          "base_uri": "https://localhost:8080/",
          "height": 206
        },
        "id": "rivj4Z6bl8UW",
        "outputId": "1f24a08b-0eaf-4768-ae04-e7571a946077"
      },
      "execution_count": 110,
      "outputs": [
        {
          "output_type": "execute_result",
          "data": {
            "text/plain": [
              "   Year          Host  Teams   Champion    Runner-Up  \\\n",
              "0  2022         Qatar     32  Argentina       France   \n",
              "1  2018        Russia     32     France      Croatia   \n",
              "2  2014        Brazil     32    Germany    Argentina   \n",
              "3  2010  South Africa     32      Spain  Netherlands   \n",
              "4  2006       Germany     32      Italy       France   \n",
              "\n",
              "                              TopScorrer  Attendance  AttendanceAvg  Matches  \n",
              "0                      Kylian Mbappé - 8     3404252          53191       64  \n",
              "1                         Harry Kane - 6     3031768          47371       64  \n",
              "2                    James Rodríguez - 6     3429873          53592       64  \n",
              "3  Wesley Sneijder, Thomas Müller... - 5     3178856          49670       64  \n",
              "4                     Miroslav Klose - 5     3352605          52384       64  "
            ],
            "text/html": [
              "\n",
              "  <div id=\"df-db0a5447-6cfc-4616-9750-fba351846728\" class=\"colab-df-container\">\n",
              "    <div>\n",
              "<style scoped>\n",
              "    .dataframe tbody tr th:only-of-type {\n",
              "        vertical-align: middle;\n",
              "    }\n",
              "\n",
              "    .dataframe tbody tr th {\n",
              "        vertical-align: top;\n",
              "    }\n",
              "\n",
              "    .dataframe thead th {\n",
              "        text-align: right;\n",
              "    }\n",
              "</style>\n",
              "<table border=\"1\" class=\"dataframe\">\n",
              "  <thead>\n",
              "    <tr style=\"text-align: right;\">\n",
              "      <th></th>\n",
              "      <th>Year</th>\n",
              "      <th>Host</th>\n",
              "      <th>Teams</th>\n",
              "      <th>Champion</th>\n",
              "      <th>Runner-Up</th>\n",
              "      <th>TopScorrer</th>\n",
              "      <th>Attendance</th>\n",
              "      <th>AttendanceAvg</th>\n",
              "      <th>Matches</th>\n",
              "    </tr>\n",
              "  </thead>\n",
              "  <tbody>\n",
              "    <tr>\n",
              "      <th>0</th>\n",
              "      <td>2022</td>\n",
              "      <td>Qatar</td>\n",
              "      <td>32</td>\n",
              "      <td>Argentina</td>\n",
              "      <td>France</td>\n",
              "      <td>Kylian Mbappé - 8</td>\n",
              "      <td>3404252</td>\n",
              "      <td>53191</td>\n",
              "      <td>64</td>\n",
              "    </tr>\n",
              "    <tr>\n",
              "      <th>1</th>\n",
              "      <td>2018</td>\n",
              "      <td>Russia</td>\n",
              "      <td>32</td>\n",
              "      <td>France</td>\n",
              "      <td>Croatia</td>\n",
              "      <td>Harry Kane - 6</td>\n",
              "      <td>3031768</td>\n",
              "      <td>47371</td>\n",
              "      <td>64</td>\n",
              "    </tr>\n",
              "    <tr>\n",
              "      <th>2</th>\n",
              "      <td>2014</td>\n",
              "      <td>Brazil</td>\n",
              "      <td>32</td>\n",
              "      <td>Germany</td>\n",
              "      <td>Argentina</td>\n",
              "      <td>James Rodríguez - 6</td>\n",
              "      <td>3429873</td>\n",
              "      <td>53592</td>\n",
              "      <td>64</td>\n",
              "    </tr>\n",
              "    <tr>\n",
              "      <th>3</th>\n",
              "      <td>2010</td>\n",
              "      <td>South Africa</td>\n",
              "      <td>32</td>\n",
              "      <td>Spain</td>\n",
              "      <td>Netherlands</td>\n",
              "      <td>Wesley Sneijder, Thomas Müller... - 5</td>\n",
              "      <td>3178856</td>\n",
              "      <td>49670</td>\n",
              "      <td>64</td>\n",
              "    </tr>\n",
              "    <tr>\n",
              "      <th>4</th>\n",
              "      <td>2006</td>\n",
              "      <td>Germany</td>\n",
              "      <td>32</td>\n",
              "      <td>Italy</td>\n",
              "      <td>France</td>\n",
              "      <td>Miroslav Klose - 5</td>\n",
              "      <td>3352605</td>\n",
              "      <td>52384</td>\n",
              "      <td>64</td>\n",
              "    </tr>\n",
              "  </tbody>\n",
              "</table>\n",
              "</div>\n",
              "    <div class=\"colab-df-buttons\">\n",
              "\n",
              "  <div class=\"colab-df-container\">\n",
              "    <button class=\"colab-df-convert\" onclick=\"convertToInteractive('df-db0a5447-6cfc-4616-9750-fba351846728')\"\n",
              "            title=\"Convert this dataframe to an interactive table.\"\n",
              "            style=\"display:none;\">\n",
              "\n",
              "  <svg xmlns=\"http://www.w3.org/2000/svg\" height=\"24px\" viewBox=\"0 -960 960 960\">\n",
              "    <path d=\"M120-120v-720h720v720H120Zm60-500h600v-160H180v160Zm220 220h160v-160H400v160Zm0 220h160v-160H400v160ZM180-400h160v-160H180v160Zm440 0h160v-160H620v160ZM180-180h160v-160H180v160Zm440 0h160v-160H620v160Z\"/>\n",
              "  </svg>\n",
              "    </button>\n",
              "\n",
              "  <style>\n",
              "    .colab-df-container {\n",
              "      display:flex;\n",
              "      gap: 12px;\n",
              "    }\n",
              "\n",
              "    .colab-df-convert {\n",
              "      background-color: #E8F0FE;\n",
              "      border: none;\n",
              "      border-radius: 50%;\n",
              "      cursor: pointer;\n",
              "      display: none;\n",
              "      fill: #1967D2;\n",
              "      height: 32px;\n",
              "      padding: 0 0 0 0;\n",
              "      width: 32px;\n",
              "    }\n",
              "\n",
              "    .colab-df-convert:hover {\n",
              "      background-color: #E2EBFA;\n",
              "      box-shadow: 0px 1px 2px rgba(60, 64, 67, 0.3), 0px 1px 3px 1px rgba(60, 64, 67, 0.15);\n",
              "      fill: #174EA6;\n",
              "    }\n",
              "\n",
              "    .colab-df-buttons div {\n",
              "      margin-bottom: 4px;\n",
              "    }\n",
              "\n",
              "    [theme=dark] .colab-df-convert {\n",
              "      background-color: #3B4455;\n",
              "      fill: #D2E3FC;\n",
              "    }\n",
              "\n",
              "    [theme=dark] .colab-df-convert:hover {\n",
              "      background-color: #434B5C;\n",
              "      box-shadow: 0px 1px 3px 1px rgba(0, 0, 0, 0.15);\n",
              "      filter: drop-shadow(0px 1px 2px rgba(0, 0, 0, 0.3));\n",
              "      fill: #FFFFFF;\n",
              "    }\n",
              "  </style>\n",
              "\n",
              "    <script>\n",
              "      const buttonEl =\n",
              "        document.querySelector('#df-db0a5447-6cfc-4616-9750-fba351846728 button.colab-df-convert');\n",
              "      buttonEl.style.display =\n",
              "        google.colab.kernel.accessAllowed ? 'block' : 'none';\n",
              "\n",
              "      async function convertToInteractive(key) {\n",
              "        const element = document.querySelector('#df-db0a5447-6cfc-4616-9750-fba351846728');\n",
              "        const dataTable =\n",
              "          await google.colab.kernel.invokeFunction('convertToInteractive',\n",
              "                                                    [key], {});\n",
              "        if (!dataTable) return;\n",
              "\n",
              "        const docLinkHtml = 'Like what you see? Visit the ' +\n",
              "          '<a target=\"_blank\" href=https://colab.research.google.com/notebooks/data_table.ipynb>data table notebook</a>'\n",
              "          + ' to learn more about interactive tables.';\n",
              "        element.innerHTML = '';\n",
              "        dataTable['output_type'] = 'display_data';\n",
              "        await google.colab.output.renderOutput(dataTable, element);\n",
              "        const docLink = document.createElement('div');\n",
              "        docLink.innerHTML = docLinkHtml;\n",
              "        element.appendChild(docLink);\n",
              "      }\n",
              "    </script>\n",
              "  </div>\n",
              "\n",
              "\n",
              "<div id=\"df-41a63ee1-fc39-4883-a107-cec457c256aa\">\n",
              "  <button class=\"colab-df-quickchart\" onclick=\"quickchart('df-41a63ee1-fc39-4883-a107-cec457c256aa')\"\n",
              "            title=\"Suggest charts\"\n",
              "            style=\"display:none;\">\n",
              "\n",
              "<svg xmlns=\"http://www.w3.org/2000/svg\" height=\"24px\"viewBox=\"0 0 24 24\"\n",
              "     width=\"24px\">\n",
              "    <g>\n",
              "        <path d=\"M19 3H5c-1.1 0-2 .9-2 2v14c0 1.1.9 2 2 2h14c1.1 0 2-.9 2-2V5c0-1.1-.9-2-2-2zM9 17H7v-7h2v7zm4 0h-2V7h2v10zm4 0h-2v-4h2v4z\"/>\n",
              "    </g>\n",
              "</svg>\n",
              "  </button>\n",
              "\n",
              "<style>\n",
              "  .colab-df-quickchart {\n",
              "      --bg-color: #E8F0FE;\n",
              "      --fill-color: #1967D2;\n",
              "      --hover-bg-color: #E2EBFA;\n",
              "      --hover-fill-color: #174EA6;\n",
              "      --disabled-fill-color: #AAA;\n",
              "      --disabled-bg-color: #DDD;\n",
              "  }\n",
              "\n",
              "  [theme=dark] .colab-df-quickchart {\n",
              "      --bg-color: #3B4455;\n",
              "      --fill-color: #D2E3FC;\n",
              "      --hover-bg-color: #434B5C;\n",
              "      --hover-fill-color: #FFFFFF;\n",
              "      --disabled-bg-color: #3B4455;\n",
              "      --disabled-fill-color: #666;\n",
              "  }\n",
              "\n",
              "  .colab-df-quickchart {\n",
              "    background-color: var(--bg-color);\n",
              "    border: none;\n",
              "    border-radius: 50%;\n",
              "    cursor: pointer;\n",
              "    display: none;\n",
              "    fill: var(--fill-color);\n",
              "    height: 32px;\n",
              "    padding: 0;\n",
              "    width: 32px;\n",
              "  }\n",
              "\n",
              "  .colab-df-quickchart:hover {\n",
              "    background-color: var(--hover-bg-color);\n",
              "    box-shadow: 0 1px 2px rgba(60, 64, 67, 0.3), 0 1px 3px 1px rgba(60, 64, 67, 0.15);\n",
              "    fill: var(--button-hover-fill-color);\n",
              "  }\n",
              "\n",
              "  .colab-df-quickchart-complete:disabled,\n",
              "  .colab-df-quickchart-complete:disabled:hover {\n",
              "    background-color: var(--disabled-bg-color);\n",
              "    fill: var(--disabled-fill-color);\n",
              "    box-shadow: none;\n",
              "  }\n",
              "\n",
              "  .colab-df-spinner {\n",
              "    border: 2px solid var(--fill-color);\n",
              "    border-color: transparent;\n",
              "    border-bottom-color: var(--fill-color);\n",
              "    animation:\n",
              "      spin 1s steps(1) infinite;\n",
              "  }\n",
              "\n",
              "  @keyframes spin {\n",
              "    0% {\n",
              "      border-color: transparent;\n",
              "      border-bottom-color: var(--fill-color);\n",
              "      border-left-color: var(--fill-color);\n",
              "    }\n",
              "    20% {\n",
              "      border-color: transparent;\n",
              "      border-left-color: var(--fill-color);\n",
              "      border-top-color: var(--fill-color);\n",
              "    }\n",
              "    30% {\n",
              "      border-color: transparent;\n",
              "      border-left-color: var(--fill-color);\n",
              "      border-top-color: var(--fill-color);\n",
              "      border-right-color: var(--fill-color);\n",
              "    }\n",
              "    40% {\n",
              "      border-color: transparent;\n",
              "      border-right-color: var(--fill-color);\n",
              "      border-top-color: var(--fill-color);\n",
              "    }\n",
              "    60% {\n",
              "      border-color: transparent;\n",
              "      border-right-color: var(--fill-color);\n",
              "    }\n",
              "    80% {\n",
              "      border-color: transparent;\n",
              "      border-right-color: var(--fill-color);\n",
              "      border-bottom-color: var(--fill-color);\n",
              "    }\n",
              "    90% {\n",
              "      border-color: transparent;\n",
              "      border-bottom-color: var(--fill-color);\n",
              "    }\n",
              "  }\n",
              "</style>\n",
              "\n",
              "  <script>\n",
              "    async function quickchart(key) {\n",
              "      const quickchartButtonEl =\n",
              "        document.querySelector('#' + key + ' button');\n",
              "      quickchartButtonEl.disabled = true;  // To prevent multiple clicks.\n",
              "      quickchartButtonEl.classList.add('colab-df-spinner');\n",
              "      try {\n",
              "        const charts = await google.colab.kernel.invokeFunction(\n",
              "            'suggestCharts', [key], {});\n",
              "      } catch (error) {\n",
              "        console.error('Error during call to suggestCharts:', error);\n",
              "      }\n",
              "      quickchartButtonEl.classList.remove('colab-df-spinner');\n",
              "      quickchartButtonEl.classList.add('colab-df-quickchart-complete');\n",
              "    }\n",
              "    (() => {\n",
              "      let quickchartButtonEl =\n",
              "        document.querySelector('#df-41a63ee1-fc39-4883-a107-cec457c256aa button');\n",
              "      quickchartButtonEl.style.display =\n",
              "        google.colab.kernel.accessAllowed ? 'block' : 'none';\n",
              "    })();\n",
              "  </script>\n",
              "</div>\n",
              "\n",
              "    </div>\n",
              "  </div>\n"
            ],
            "application/vnd.google.colaboratory.intrinsic+json": {
              "type": "dataframe",
              "variable_name": "world_cup",
              "summary": "{\n  \"name\": \"world_cup\",\n  \"rows\": 22,\n  \"fields\": [\n    {\n      \"column\": \"Year\",\n      \"properties\": {\n        \"dtype\": \"number\",\n        \"std\": 27,\n        \"min\": 1930,\n        \"max\": 2022,\n        \"num_unique_values\": 22,\n        \"samples\": [\n          2022,\n          1970,\n          1990\n        ],\n        \"semantic_type\": \"\",\n        \"description\": \"\"\n      }\n    },\n    {\n      \"column\": \"Host\",\n      \"properties\": {\n        \"dtype\": \"string\",\n        \"num_unique_values\": 17,\n        \"samples\": [\n          \"Qatar\",\n          \"Russia\",\n          \"Korea Republic, Japan\"\n        ],\n        \"semantic_type\": \"\",\n        \"description\": \"\"\n      }\n    },\n    {\n      \"column\": \"Teams\",\n      \"properties\": {\n        \"dtype\": \"number\",\n        \"std\": 7,\n        \"min\": 13,\n        \"max\": 32,\n        \"num_unique_values\": 5,\n        \"samples\": [\n          24,\n          13,\n          16\n        ],\n        \"semantic_type\": \"\",\n        \"description\": \"\"\n      }\n    },\n    {\n      \"column\": \"Champion\",\n      \"properties\": {\n        \"dtype\": \"category\",\n        \"num_unique_values\": 9,\n        \"samples\": [\n          \"England\",\n          \"France\",\n          \"Brazil\"\n        ],\n        \"semantic_type\": \"\",\n        \"description\": \"\"\n      }\n    },\n    {\n      \"column\": \"Runner-Up\",\n      \"properties\": {\n        \"dtype\": \"string\",\n        \"num_unique_values\": 11,\n        \"samples\": [\n          \"Brazil\",\n          \"France\",\n          \"Sweden\"\n        ],\n        \"semantic_type\": \"\",\n        \"description\": \"\"\n      }\n    },\n    {\n      \"column\": \"TopScorrer\",\n      \"properties\": {\n        \"dtype\": \"string\",\n        \"num_unique_values\": 22,\n        \"samples\": [\n          \"Kylian Mbapp\\u00e9 - 8\",\n          \"Gerd M\\u00fcller - 10\",\n          \"Salvatore Schillaci - 6\"\n        ],\n        \"semantic_type\": \"\",\n        \"description\": \"\"\n      }\n    },\n    {\n      \"column\": \"Attendance\",\n      \"properties\": {\n        \"dtype\": \"number\",\n        \"std\": 1101740,\n        \"min\": 363000,\n        \"max\": 3587538,\n        \"num_unique_values\": 22,\n        \"samples\": [\n          3404252,\n          1603975,\n          2516215\n        ],\n        \"semantic_type\": \"\",\n        \"description\": \"\"\n      }\n    },\n    {\n      \"column\": \"AttendanceAvg\",\n      \"properties\": {\n        \"dtype\": \"number\",\n        \"std\": 12136,\n        \"min\": 20872,\n        \"max\": 68991,\n        \"num_unique_values\": 22,\n        \"samples\": [\n          53191,\n          50124,\n          48389\n        ],\n        \"semantic_type\": \"\",\n        \"description\": \"\"\n      }\n    },\n    {\n      \"column\": \"Matches\",\n      \"properties\": {\n        \"dtype\": \"number\",\n        \"std\": 17,\n        \"min\": 17,\n        \"max\": 64,\n        \"num_unique_values\": 9,\n        \"samples\": [\n          18,\n          52,\n          26\n        ],\n        \"semantic_type\": \"\",\n        \"description\": \"\"\n      }\n    }\n  ]\n}"
            }
          },
          "metadata": {},
          "execution_count": 110
        }
      ]
    },
    {
      "cell_type": "code",
      "source": [
        "matches.columns"
      ],
      "metadata": {
        "colab": {
          "base_uri": "https://localhost:8080/",
          "height": 0
        },
        "id": "mkccEqBsmBWt",
        "outputId": "1cd54b41-e61e-4a9b-f67c-e33aa9a839d2"
      },
      "execution_count": 105,
      "outputs": [
        {
          "output_type": "execute_result",
          "data": {
            "text/plain": [
              "Index(['home_team', 'away_team', 'home_score', 'away_score', 'home_manager',\n",
              "       'home_captain', 'away_manager', 'away_captain', 'Attendance', 'Venue',\n",
              "       'Officials', 'Round', 'Date', 'Score', 'Referee', 'Host', 'Year'],\n",
              "      dtype='object')"
            ]
          },
          "metadata": {},
          "execution_count": 105
        }
      ]
    },
    {
      "cell_type": "code",
      "source": [
        "rank.head()"
      ],
      "metadata": {
        "colab": {
          "base_uri": "https://localhost:8080/",
          "height": 206
        },
        "id": "62LydeADmHfy",
        "outputId": "7961f6ef-aa0a-4b5e-e4a1-a52fb4fd4a71"
      },
      "execution_count": 6,
      "outputs": [
        {
          "output_type": "execute_result",
          "data": {
            "text/plain": [
              "        team team_code association  rank  previous_rank   points  \\\n",
              "0     Brazil       BRA    CONMEBOL     1              1  1841.30   \n",
              "1    Belgium       BEL        UEFA     2              2  1816.71   \n",
              "2  Argentina       ARG    CONMEBOL     3              3  1773.88   \n",
              "3     France       FRA        UEFA     4              4  1759.78   \n",
              "4    England       ENG        UEFA     5              5  1728.47   \n",
              "\n",
              "   previous_points  \n",
              "0          1837.56  \n",
              "1          1821.92  \n",
              "2          1770.65  \n",
              "3          1764.85  \n",
              "4          1737.46  "
            ],
            "text/html": [
              "\n",
              "  <div id=\"df-ebaebea1-06fb-406f-b600-35467d768044\" class=\"colab-df-container\">\n",
              "    <div>\n",
              "<style scoped>\n",
              "    .dataframe tbody tr th:only-of-type {\n",
              "        vertical-align: middle;\n",
              "    }\n",
              "\n",
              "    .dataframe tbody tr th {\n",
              "        vertical-align: top;\n",
              "    }\n",
              "\n",
              "    .dataframe thead th {\n",
              "        text-align: right;\n",
              "    }\n",
              "</style>\n",
              "<table border=\"1\" class=\"dataframe\">\n",
              "  <thead>\n",
              "    <tr style=\"text-align: right;\">\n",
              "      <th></th>\n",
              "      <th>team</th>\n",
              "      <th>team_code</th>\n",
              "      <th>association</th>\n",
              "      <th>rank</th>\n",
              "      <th>previous_rank</th>\n",
              "      <th>points</th>\n",
              "      <th>previous_points</th>\n",
              "    </tr>\n",
              "  </thead>\n",
              "  <tbody>\n",
              "    <tr>\n",
              "      <th>0</th>\n",
              "      <td>Brazil</td>\n",
              "      <td>BRA</td>\n",
              "      <td>CONMEBOL</td>\n",
              "      <td>1</td>\n",
              "      <td>1</td>\n",
              "      <td>1841.30</td>\n",
              "      <td>1837.56</td>\n",
              "    </tr>\n",
              "    <tr>\n",
              "      <th>1</th>\n",
              "      <td>Belgium</td>\n",
              "      <td>BEL</td>\n",
              "      <td>UEFA</td>\n",
              "      <td>2</td>\n",
              "      <td>2</td>\n",
              "      <td>1816.71</td>\n",
              "      <td>1821.92</td>\n",
              "    </tr>\n",
              "    <tr>\n",
              "      <th>2</th>\n",
              "      <td>Argentina</td>\n",
              "      <td>ARG</td>\n",
              "      <td>CONMEBOL</td>\n",
              "      <td>3</td>\n",
              "      <td>3</td>\n",
              "      <td>1773.88</td>\n",
              "      <td>1770.65</td>\n",
              "    </tr>\n",
              "    <tr>\n",
              "      <th>3</th>\n",
              "      <td>France</td>\n",
              "      <td>FRA</td>\n",
              "      <td>UEFA</td>\n",
              "      <td>4</td>\n",
              "      <td>4</td>\n",
              "      <td>1759.78</td>\n",
              "      <td>1764.85</td>\n",
              "    </tr>\n",
              "    <tr>\n",
              "      <th>4</th>\n",
              "      <td>England</td>\n",
              "      <td>ENG</td>\n",
              "      <td>UEFA</td>\n",
              "      <td>5</td>\n",
              "      <td>5</td>\n",
              "      <td>1728.47</td>\n",
              "      <td>1737.46</td>\n",
              "    </tr>\n",
              "  </tbody>\n",
              "</table>\n",
              "</div>\n",
              "    <div class=\"colab-df-buttons\">\n",
              "\n",
              "  <div class=\"colab-df-container\">\n",
              "    <button class=\"colab-df-convert\" onclick=\"convertToInteractive('df-ebaebea1-06fb-406f-b600-35467d768044')\"\n",
              "            title=\"Convert this dataframe to an interactive table.\"\n",
              "            style=\"display:none;\">\n",
              "\n",
              "  <svg xmlns=\"http://www.w3.org/2000/svg\" height=\"24px\" viewBox=\"0 -960 960 960\">\n",
              "    <path d=\"M120-120v-720h720v720H120Zm60-500h600v-160H180v160Zm220 220h160v-160H400v160Zm0 220h160v-160H400v160ZM180-400h160v-160H180v160Zm440 0h160v-160H620v160ZM180-180h160v-160H180v160Zm440 0h160v-160H620v160Z\"/>\n",
              "  </svg>\n",
              "    </button>\n",
              "\n",
              "  <style>\n",
              "    .colab-df-container {\n",
              "      display:flex;\n",
              "      gap: 12px;\n",
              "    }\n",
              "\n",
              "    .colab-df-convert {\n",
              "      background-color: #E8F0FE;\n",
              "      border: none;\n",
              "      border-radius: 50%;\n",
              "      cursor: pointer;\n",
              "      display: none;\n",
              "      fill: #1967D2;\n",
              "      height: 32px;\n",
              "      padding: 0 0 0 0;\n",
              "      width: 32px;\n",
              "    }\n",
              "\n",
              "    .colab-df-convert:hover {\n",
              "      background-color: #E2EBFA;\n",
              "      box-shadow: 0px 1px 2px rgba(60, 64, 67, 0.3), 0px 1px 3px 1px rgba(60, 64, 67, 0.15);\n",
              "      fill: #174EA6;\n",
              "    }\n",
              "\n",
              "    .colab-df-buttons div {\n",
              "      margin-bottom: 4px;\n",
              "    }\n",
              "\n",
              "    [theme=dark] .colab-df-convert {\n",
              "      background-color: #3B4455;\n",
              "      fill: #D2E3FC;\n",
              "    }\n",
              "\n",
              "    [theme=dark] .colab-df-convert:hover {\n",
              "      background-color: #434B5C;\n",
              "      box-shadow: 0px 1px 3px 1px rgba(0, 0, 0, 0.15);\n",
              "      filter: drop-shadow(0px 1px 2px rgba(0, 0, 0, 0.3));\n",
              "      fill: #FFFFFF;\n",
              "    }\n",
              "  </style>\n",
              "\n",
              "    <script>\n",
              "      const buttonEl =\n",
              "        document.querySelector('#df-ebaebea1-06fb-406f-b600-35467d768044 button.colab-df-convert');\n",
              "      buttonEl.style.display =\n",
              "        google.colab.kernel.accessAllowed ? 'block' : 'none';\n",
              "\n",
              "      async function convertToInteractive(key) {\n",
              "        const element = document.querySelector('#df-ebaebea1-06fb-406f-b600-35467d768044');\n",
              "        const dataTable =\n",
              "          await google.colab.kernel.invokeFunction('convertToInteractive',\n",
              "                                                    [key], {});\n",
              "        if (!dataTable) return;\n",
              "\n",
              "        const docLinkHtml = 'Like what you see? Visit the ' +\n",
              "          '<a target=\"_blank\" href=https://colab.research.google.com/notebooks/data_table.ipynb>data table notebook</a>'\n",
              "          + ' to learn more about interactive tables.';\n",
              "        element.innerHTML = '';\n",
              "        dataTable['output_type'] = 'display_data';\n",
              "        await google.colab.output.renderOutput(dataTable, element);\n",
              "        const docLink = document.createElement('div');\n",
              "        docLink.innerHTML = docLinkHtml;\n",
              "        element.appendChild(docLink);\n",
              "      }\n",
              "    </script>\n",
              "  </div>\n",
              "\n",
              "\n",
              "<div id=\"df-ca68164b-a2f9-45d7-a42f-047dd94118e1\">\n",
              "  <button class=\"colab-df-quickchart\" onclick=\"quickchart('df-ca68164b-a2f9-45d7-a42f-047dd94118e1')\"\n",
              "            title=\"Suggest charts\"\n",
              "            style=\"display:none;\">\n",
              "\n",
              "<svg xmlns=\"http://www.w3.org/2000/svg\" height=\"24px\"viewBox=\"0 0 24 24\"\n",
              "     width=\"24px\">\n",
              "    <g>\n",
              "        <path d=\"M19 3H5c-1.1 0-2 .9-2 2v14c0 1.1.9 2 2 2h14c1.1 0 2-.9 2-2V5c0-1.1-.9-2-2-2zM9 17H7v-7h2v7zm4 0h-2V7h2v10zm4 0h-2v-4h2v4z\"/>\n",
              "    </g>\n",
              "</svg>\n",
              "  </button>\n",
              "\n",
              "<style>\n",
              "  .colab-df-quickchart {\n",
              "      --bg-color: #E8F0FE;\n",
              "      --fill-color: #1967D2;\n",
              "      --hover-bg-color: #E2EBFA;\n",
              "      --hover-fill-color: #174EA6;\n",
              "      --disabled-fill-color: #AAA;\n",
              "      --disabled-bg-color: #DDD;\n",
              "  }\n",
              "\n",
              "  [theme=dark] .colab-df-quickchart {\n",
              "      --bg-color: #3B4455;\n",
              "      --fill-color: #D2E3FC;\n",
              "      --hover-bg-color: #434B5C;\n",
              "      --hover-fill-color: #FFFFFF;\n",
              "      --disabled-bg-color: #3B4455;\n",
              "      --disabled-fill-color: #666;\n",
              "  }\n",
              "\n",
              "  .colab-df-quickchart {\n",
              "    background-color: var(--bg-color);\n",
              "    border: none;\n",
              "    border-radius: 50%;\n",
              "    cursor: pointer;\n",
              "    display: none;\n",
              "    fill: var(--fill-color);\n",
              "    height: 32px;\n",
              "    padding: 0;\n",
              "    width: 32px;\n",
              "  }\n",
              "\n",
              "  .colab-df-quickchart:hover {\n",
              "    background-color: var(--hover-bg-color);\n",
              "    box-shadow: 0 1px 2px rgba(60, 64, 67, 0.3), 0 1px 3px 1px rgba(60, 64, 67, 0.15);\n",
              "    fill: var(--button-hover-fill-color);\n",
              "  }\n",
              "\n",
              "  .colab-df-quickchart-complete:disabled,\n",
              "  .colab-df-quickchart-complete:disabled:hover {\n",
              "    background-color: var(--disabled-bg-color);\n",
              "    fill: var(--disabled-fill-color);\n",
              "    box-shadow: none;\n",
              "  }\n",
              "\n",
              "  .colab-df-spinner {\n",
              "    border: 2px solid var(--fill-color);\n",
              "    border-color: transparent;\n",
              "    border-bottom-color: var(--fill-color);\n",
              "    animation:\n",
              "      spin 1s steps(1) infinite;\n",
              "  }\n",
              "\n",
              "  @keyframes spin {\n",
              "    0% {\n",
              "      border-color: transparent;\n",
              "      border-bottom-color: var(--fill-color);\n",
              "      border-left-color: var(--fill-color);\n",
              "    }\n",
              "    20% {\n",
              "      border-color: transparent;\n",
              "      border-left-color: var(--fill-color);\n",
              "      border-top-color: var(--fill-color);\n",
              "    }\n",
              "    30% {\n",
              "      border-color: transparent;\n",
              "      border-left-color: var(--fill-color);\n",
              "      border-top-color: var(--fill-color);\n",
              "      border-right-color: var(--fill-color);\n",
              "    }\n",
              "    40% {\n",
              "      border-color: transparent;\n",
              "      border-right-color: var(--fill-color);\n",
              "      border-top-color: var(--fill-color);\n",
              "    }\n",
              "    60% {\n",
              "      border-color: transparent;\n",
              "      border-right-color: var(--fill-color);\n",
              "    }\n",
              "    80% {\n",
              "      border-color: transparent;\n",
              "      border-right-color: var(--fill-color);\n",
              "      border-bottom-color: var(--fill-color);\n",
              "    }\n",
              "    90% {\n",
              "      border-color: transparent;\n",
              "      border-bottom-color: var(--fill-color);\n",
              "    }\n",
              "  }\n",
              "</style>\n",
              "\n",
              "  <script>\n",
              "    async function quickchart(key) {\n",
              "      const quickchartButtonEl =\n",
              "        document.querySelector('#' + key + ' button');\n",
              "      quickchartButtonEl.disabled = true;  // To prevent multiple clicks.\n",
              "      quickchartButtonEl.classList.add('colab-df-spinner');\n",
              "      try {\n",
              "        const charts = await google.colab.kernel.invokeFunction(\n",
              "            'suggestCharts', [key], {});\n",
              "      } catch (error) {\n",
              "        console.error('Error during call to suggestCharts:', error);\n",
              "      }\n",
              "      quickchartButtonEl.classList.remove('colab-df-spinner');\n",
              "      quickchartButtonEl.classList.add('colab-df-quickchart-complete');\n",
              "    }\n",
              "    (() => {\n",
              "      let quickchartButtonEl =\n",
              "        document.querySelector('#df-ca68164b-a2f9-45d7-a42f-047dd94118e1 button');\n",
              "      quickchartButtonEl.style.display =\n",
              "        google.colab.kernel.accessAllowed ? 'block' : 'none';\n",
              "    })();\n",
              "  </script>\n",
              "</div>\n",
              "\n",
              "    </div>\n",
              "  </div>\n"
            ],
            "application/vnd.google.colaboratory.intrinsic+json": {
              "type": "dataframe",
              "variable_name": "rank",
              "summary": "{\n  \"name\": \"rank\",\n  \"rows\": 211,\n  \"fields\": [\n    {\n      \"column\": \"team\",\n      \"properties\": {\n        \"dtype\": \"string\",\n        \"num_unique_values\": 211,\n        \"samples\": [\n          \"Costa Rica\",\n          \"Moldova\",\n          \"Burundi\"\n        ],\n        \"semantic_type\": \"\",\n        \"description\": \"\"\n      }\n    },\n    {\n      \"column\": \"team_code\",\n      \"properties\": {\n        \"dtype\": \"string\",\n        \"num_unique_values\": 211,\n        \"samples\": [\n          \"CRC\",\n          \"MDA\",\n          \"BDI\"\n        ],\n        \"semantic_type\": \"\",\n        \"description\": \"\"\n      }\n    },\n    {\n      \"column\": \"association\",\n      \"properties\": {\n        \"dtype\": \"category\",\n        \"num_unique_values\": 6,\n        \"samples\": [\n          \"CONMEBOL\",\n          \"UEFA\",\n          \"OFC\"\n        ],\n        \"semantic_type\": \"\",\n        \"description\": \"\"\n      }\n    },\n    {\n      \"column\": \"rank\",\n      \"properties\": {\n        \"dtype\": \"number\",\n        \"std\": 61,\n        \"min\": 1,\n        \"max\": 211,\n        \"num_unique_values\": 211,\n        \"samples\": [\n          31,\n          174,\n          141\n        ],\n        \"semantic_type\": \"\",\n        \"description\": \"\"\n      }\n    },\n    {\n      \"column\": \"previous_rank\",\n      \"properties\": {\n        \"dtype\": \"number\",\n        \"std\": 61,\n        \"min\": 1,\n        \"max\": 211,\n        \"num_unique_values\": 211,\n        \"samples\": [\n          34,\n          177,\n          141\n        ],\n        \"semantic_type\": \"\",\n        \"description\": \"\"\n      }\n    },\n    {\n      \"column\": \"points\",\n      \"properties\": {\n        \"dtype\": \"number\",\n        \"std\": 253.4209541766026,\n        \"min\": 762.22,\n        \"max\": 1841.3,\n        \"num_unique_values\": 211,\n        \"samples\": [\n          1503.59,\n          961.23,\n          1076.26\n        ],\n        \"semantic_type\": \"\",\n        \"description\": \"\"\n      }\n    },\n    {\n      \"column\": \"previous_points\",\n      \"properties\": {\n        \"dtype\": \"number\",\n        \"std\": 253.33171203366803,\n        \"min\": 763.82,\n        \"max\": 1837.56,\n        \"num_unique_values\": 211,\n        \"samples\": [\n          1500.06,\n          944.96,\n          1076.26\n        ],\n        \"semantic_type\": \"\",\n        \"description\": \"\"\n      }\n    }\n  ]\n}"
            }
          },
          "metadata": {},
          "execution_count": 6
        }
      ]
    },
    {
      "cell_type": "code",
      "source": [
        "world_cup.shape"
      ],
      "metadata": {
        "colab": {
          "base_uri": "https://localhost:8080/",
          "height": 0
        },
        "id": "hWAIUG8JmNMb",
        "outputId": "e766353f-be79-4392-c49f-bb5a0d4539ba"
      },
      "execution_count": 8,
      "outputs": [
        {
          "output_type": "execute_result",
          "data": {
            "text/plain": [
              "(22, 9)"
            ]
          },
          "metadata": {},
          "execution_count": 8
        }
      ]
    },
    {
      "cell_type": "code",
      "source": [
        "matches.shape\n"
      ],
      "metadata": {
        "colab": {
          "base_uri": "https://localhost:8080/",
          "height": 0
        },
        "id": "TpxbV65kmTF9",
        "outputId": "f13e84af-03b1-4939-8047-27714b742941"
      },
      "execution_count": 11,
      "outputs": [
        {
          "output_type": "execute_result",
          "data": {
            "text/plain": [
              "(964, 44)"
            ]
          },
          "metadata": {},
          "execution_count": 11
        }
      ]
    },
    {
      "cell_type": "code",
      "source": [
        "rank.shape"
      ],
      "metadata": {
        "colab": {
          "base_uri": "https://localhost:8080/",
          "height": 0
        },
        "id": "StprmckvmeFk",
        "outputId": "7c3b049b-99d4-4f71-ad30-aa87a1366350"
      },
      "execution_count": 10,
      "outputs": [
        {
          "output_type": "execute_result",
          "data": {
            "text/plain": [
              "(211, 7)"
            ]
          },
          "metadata": {},
          "execution_count": 10
        }
      ]
    },
    {
      "cell_type": "markdown",
      "source": [
        "It means World_cup has 22 rows and 9 columns . matches has 964 rows and 44 columns . Rank has 211 rows and 7 columns"
      ],
      "metadata": {
        "id": "-2SnU1CadWMp"
      }
    },
    {
      "cell_type": "code",
      "source": [
        "world_cup.isnull().sum()"
      ],
      "metadata": {
        "colab": {
          "base_uri": "https://localhost:8080/",
          "height": 366
        },
        "id": "nm_Dt3_4mfut",
        "outputId": "2588524b-d7f8-4827-e0c7-ff7892c0344d"
      },
      "execution_count": 14,
      "outputs": [
        {
          "output_type": "execute_result",
          "data": {
            "text/plain": [
              "Year             0\n",
              "Host             0\n",
              "Teams            0\n",
              "Champion         0\n",
              "Runner-Up        0\n",
              "TopScorrer       0\n",
              "Attendance       0\n",
              "AttendanceAvg    0\n",
              "Matches          0\n",
              "dtype: int64"
            ],
            "text/html": [
              "<div>\n",
              "<style scoped>\n",
              "    .dataframe tbody tr th:only-of-type {\n",
              "        vertical-align: middle;\n",
              "    }\n",
              "\n",
              "    .dataframe tbody tr th {\n",
              "        vertical-align: top;\n",
              "    }\n",
              "\n",
              "    .dataframe thead th {\n",
              "        text-align: right;\n",
              "    }\n",
              "</style>\n",
              "<table border=\"1\" class=\"dataframe\">\n",
              "  <thead>\n",
              "    <tr style=\"text-align: right;\">\n",
              "      <th></th>\n",
              "      <th>0</th>\n",
              "    </tr>\n",
              "  </thead>\n",
              "  <tbody>\n",
              "    <tr>\n",
              "      <th>Year</th>\n",
              "      <td>0</td>\n",
              "    </tr>\n",
              "    <tr>\n",
              "      <th>Host</th>\n",
              "      <td>0</td>\n",
              "    </tr>\n",
              "    <tr>\n",
              "      <th>Teams</th>\n",
              "      <td>0</td>\n",
              "    </tr>\n",
              "    <tr>\n",
              "      <th>Champion</th>\n",
              "      <td>0</td>\n",
              "    </tr>\n",
              "    <tr>\n",
              "      <th>Runner-Up</th>\n",
              "      <td>0</td>\n",
              "    </tr>\n",
              "    <tr>\n",
              "      <th>TopScorrer</th>\n",
              "      <td>0</td>\n",
              "    </tr>\n",
              "    <tr>\n",
              "      <th>Attendance</th>\n",
              "      <td>0</td>\n",
              "    </tr>\n",
              "    <tr>\n",
              "      <th>AttendanceAvg</th>\n",
              "      <td>0</td>\n",
              "    </tr>\n",
              "    <tr>\n",
              "      <th>Matches</th>\n",
              "      <td>0</td>\n",
              "    </tr>\n",
              "  </tbody>\n",
              "</table>\n",
              "</div><br><label><b>dtype:</b> int64</label>"
            ]
          },
          "metadata": {},
          "execution_count": 14
        }
      ]
    },
    {
      "cell_type": "markdown",
      "source": [
        "There is no null values in world_cup"
      ],
      "metadata": {
        "id": "exbjUvwsdmOw"
      }
    },
    {
      "cell_type": "code",
      "source": [
        "matches.isnull().sum()"
      ],
      "metadata": {
        "colab": {
          "base_uri": "https://localhost:8080/",
          "height": 1463
        },
        "id": "L30j3rdwmkY0",
        "outputId": "8c0f301c-b6ba-44d3-96a4-680befe0f6af"
      },
      "execution_count": 15,
      "outputs": [
        {
          "output_type": "execute_result",
          "data": {
            "text/plain": [
              "home_team                            0\n",
              "away_team                            0\n",
              "home_score                           0\n",
              "home_xg                            836\n",
              "home_penalty                       929\n",
              "away_score                           0\n",
              "away_xg                            836\n",
              "away_penalty                       929\n",
              "home_manager                         0\n",
              "home_captain                       320\n",
              "away_manager                         0\n",
              "away_captain                       320\n",
              "Attendance                           0\n",
              "Venue                                0\n",
              "Officials                          255\n",
              "Round                                0\n",
              "Date                                 0\n",
              "Score                                0\n",
              "Referee                            255\n",
              "Notes                              891\n",
              "Host                                 0\n",
              "Year                                 0\n",
              "home_goal                          246\n",
              "away_goal                          393\n",
              "home_goal_long                     246\n",
              "away_goal_long                     393\n",
              "home_own_goal                      925\n",
              "away_own_goal                      947\n",
              "home_penalty_goal                  848\n",
              "away_penalty_goal                  880\n",
              "home_penalty_miss_long             958\n",
              "away_penalty_miss_long             955\n",
              "home_penalty_shootout_goal_long    930\n",
              "away_penalty_shootout_goal_long    930\n",
              "home_penalty_shootout_miss_long    940\n",
              "away_penalty_shootout_miss_long    934\n",
              "home_red_card                      913\n",
              "away_red_card                      910\n",
              "home_yellow_red_card               941\n",
              "away_yellow_red_card               933\n",
              "home_yellow_card_long              343\n",
              "away_yellow_card_long              337\n",
              "home_substitute_in_long            224\n",
              "away_substitute_in_long            217\n",
              "dtype: int64"
            ],
            "text/html": [
              "<div>\n",
              "<style scoped>\n",
              "    .dataframe tbody tr th:only-of-type {\n",
              "        vertical-align: middle;\n",
              "    }\n",
              "\n",
              "    .dataframe tbody tr th {\n",
              "        vertical-align: top;\n",
              "    }\n",
              "\n",
              "    .dataframe thead th {\n",
              "        text-align: right;\n",
              "    }\n",
              "</style>\n",
              "<table border=\"1\" class=\"dataframe\">\n",
              "  <thead>\n",
              "    <tr style=\"text-align: right;\">\n",
              "      <th></th>\n",
              "      <th>0</th>\n",
              "    </tr>\n",
              "  </thead>\n",
              "  <tbody>\n",
              "    <tr>\n",
              "      <th>home_team</th>\n",
              "      <td>0</td>\n",
              "    </tr>\n",
              "    <tr>\n",
              "      <th>away_team</th>\n",
              "      <td>0</td>\n",
              "    </tr>\n",
              "    <tr>\n",
              "      <th>home_score</th>\n",
              "      <td>0</td>\n",
              "    </tr>\n",
              "    <tr>\n",
              "      <th>home_xg</th>\n",
              "      <td>836</td>\n",
              "    </tr>\n",
              "    <tr>\n",
              "      <th>home_penalty</th>\n",
              "      <td>929</td>\n",
              "    </tr>\n",
              "    <tr>\n",
              "      <th>away_score</th>\n",
              "      <td>0</td>\n",
              "    </tr>\n",
              "    <tr>\n",
              "      <th>away_xg</th>\n",
              "      <td>836</td>\n",
              "    </tr>\n",
              "    <tr>\n",
              "      <th>away_penalty</th>\n",
              "      <td>929</td>\n",
              "    </tr>\n",
              "    <tr>\n",
              "      <th>home_manager</th>\n",
              "      <td>0</td>\n",
              "    </tr>\n",
              "    <tr>\n",
              "      <th>home_captain</th>\n",
              "      <td>320</td>\n",
              "    </tr>\n",
              "    <tr>\n",
              "      <th>away_manager</th>\n",
              "      <td>0</td>\n",
              "    </tr>\n",
              "    <tr>\n",
              "      <th>away_captain</th>\n",
              "      <td>320</td>\n",
              "    </tr>\n",
              "    <tr>\n",
              "      <th>Attendance</th>\n",
              "      <td>0</td>\n",
              "    </tr>\n",
              "    <tr>\n",
              "      <th>Venue</th>\n",
              "      <td>0</td>\n",
              "    </tr>\n",
              "    <tr>\n",
              "      <th>Officials</th>\n",
              "      <td>255</td>\n",
              "    </tr>\n",
              "    <tr>\n",
              "      <th>Round</th>\n",
              "      <td>0</td>\n",
              "    </tr>\n",
              "    <tr>\n",
              "      <th>Date</th>\n",
              "      <td>0</td>\n",
              "    </tr>\n",
              "    <tr>\n",
              "      <th>Score</th>\n",
              "      <td>0</td>\n",
              "    </tr>\n",
              "    <tr>\n",
              "      <th>Referee</th>\n",
              "      <td>255</td>\n",
              "    </tr>\n",
              "    <tr>\n",
              "      <th>Notes</th>\n",
              "      <td>891</td>\n",
              "    </tr>\n",
              "    <tr>\n",
              "      <th>Host</th>\n",
              "      <td>0</td>\n",
              "    </tr>\n",
              "    <tr>\n",
              "      <th>Year</th>\n",
              "      <td>0</td>\n",
              "    </tr>\n",
              "    <tr>\n",
              "      <th>home_goal</th>\n",
              "      <td>246</td>\n",
              "    </tr>\n",
              "    <tr>\n",
              "      <th>away_goal</th>\n",
              "      <td>393</td>\n",
              "    </tr>\n",
              "    <tr>\n",
              "      <th>home_goal_long</th>\n",
              "      <td>246</td>\n",
              "    </tr>\n",
              "    <tr>\n",
              "      <th>away_goal_long</th>\n",
              "      <td>393</td>\n",
              "    </tr>\n",
              "    <tr>\n",
              "      <th>home_own_goal</th>\n",
              "      <td>925</td>\n",
              "    </tr>\n",
              "    <tr>\n",
              "      <th>away_own_goal</th>\n",
              "      <td>947</td>\n",
              "    </tr>\n",
              "    <tr>\n",
              "      <th>home_penalty_goal</th>\n",
              "      <td>848</td>\n",
              "    </tr>\n",
              "    <tr>\n",
              "      <th>away_penalty_goal</th>\n",
              "      <td>880</td>\n",
              "    </tr>\n",
              "    <tr>\n",
              "      <th>home_penalty_miss_long</th>\n",
              "      <td>958</td>\n",
              "    </tr>\n",
              "    <tr>\n",
              "      <th>away_penalty_miss_long</th>\n",
              "      <td>955</td>\n",
              "    </tr>\n",
              "    <tr>\n",
              "      <th>home_penalty_shootout_goal_long</th>\n",
              "      <td>930</td>\n",
              "    </tr>\n",
              "    <tr>\n",
              "      <th>away_penalty_shootout_goal_long</th>\n",
              "      <td>930</td>\n",
              "    </tr>\n",
              "    <tr>\n",
              "      <th>home_penalty_shootout_miss_long</th>\n",
              "      <td>940</td>\n",
              "    </tr>\n",
              "    <tr>\n",
              "      <th>away_penalty_shootout_miss_long</th>\n",
              "      <td>934</td>\n",
              "    </tr>\n",
              "    <tr>\n",
              "      <th>home_red_card</th>\n",
              "      <td>913</td>\n",
              "    </tr>\n",
              "    <tr>\n",
              "      <th>away_red_card</th>\n",
              "      <td>910</td>\n",
              "    </tr>\n",
              "    <tr>\n",
              "      <th>home_yellow_red_card</th>\n",
              "      <td>941</td>\n",
              "    </tr>\n",
              "    <tr>\n",
              "      <th>away_yellow_red_card</th>\n",
              "      <td>933</td>\n",
              "    </tr>\n",
              "    <tr>\n",
              "      <th>home_yellow_card_long</th>\n",
              "      <td>343</td>\n",
              "    </tr>\n",
              "    <tr>\n",
              "      <th>away_yellow_card_long</th>\n",
              "      <td>337</td>\n",
              "    </tr>\n",
              "    <tr>\n",
              "      <th>home_substitute_in_long</th>\n",
              "      <td>224</td>\n",
              "    </tr>\n",
              "    <tr>\n",
              "      <th>away_substitute_in_long</th>\n",
              "      <td>217</td>\n",
              "    </tr>\n",
              "  </tbody>\n",
              "</table>\n",
              "</div><br><label><b>dtype:</b> int64</label>"
            ]
          },
          "metadata": {},
          "execution_count": 15
        }
      ]
    },
    {
      "cell_type": "markdown",
      "source": [
        "matches has many null values"
      ],
      "metadata": {
        "id": "t2HF9mD5dra2"
      }
    },
    {
      "cell_type": "code",
      "source": [
        "rank.isnull().sum()"
      ],
      "metadata": {
        "colab": {
          "base_uri": "https://localhost:8080/",
          "height": 303
        },
        "id": "1gsbL6Zlmy9y",
        "outputId": "1c02ea10-9a08-4b0e-9449-cebc0a2724a4"
      },
      "execution_count": 16,
      "outputs": [
        {
          "output_type": "execute_result",
          "data": {
            "text/plain": [
              "team               0\n",
              "team_code          0\n",
              "association        0\n",
              "rank               0\n",
              "previous_rank      0\n",
              "points             0\n",
              "previous_points    0\n",
              "dtype: int64"
            ],
            "text/html": [
              "<div>\n",
              "<style scoped>\n",
              "    .dataframe tbody tr th:only-of-type {\n",
              "        vertical-align: middle;\n",
              "    }\n",
              "\n",
              "    .dataframe tbody tr th {\n",
              "        vertical-align: top;\n",
              "    }\n",
              "\n",
              "    .dataframe thead th {\n",
              "        text-align: right;\n",
              "    }\n",
              "</style>\n",
              "<table border=\"1\" class=\"dataframe\">\n",
              "  <thead>\n",
              "    <tr style=\"text-align: right;\">\n",
              "      <th></th>\n",
              "      <th>0</th>\n",
              "    </tr>\n",
              "  </thead>\n",
              "  <tbody>\n",
              "    <tr>\n",
              "      <th>team</th>\n",
              "      <td>0</td>\n",
              "    </tr>\n",
              "    <tr>\n",
              "      <th>team_code</th>\n",
              "      <td>0</td>\n",
              "    </tr>\n",
              "    <tr>\n",
              "      <th>association</th>\n",
              "      <td>0</td>\n",
              "    </tr>\n",
              "    <tr>\n",
              "      <th>rank</th>\n",
              "      <td>0</td>\n",
              "    </tr>\n",
              "    <tr>\n",
              "      <th>previous_rank</th>\n",
              "      <td>0</td>\n",
              "    </tr>\n",
              "    <tr>\n",
              "      <th>points</th>\n",
              "      <td>0</td>\n",
              "    </tr>\n",
              "    <tr>\n",
              "      <th>previous_points</th>\n",
              "      <td>0</td>\n",
              "    </tr>\n",
              "  </tbody>\n",
              "</table>\n",
              "</div><br><label><b>dtype:</b> int64</label>"
            ]
          },
          "metadata": {},
          "execution_count": 16
        }
      ]
    },
    {
      "cell_type": "markdown",
      "source": [
        "Again no null values in rank data"
      ],
      "metadata": {
        "id": "f7A0USx0duOz"
      }
    },
    {
      "cell_type": "code",
      "source": [
        "print(world_cup.dtypes)   #here we have checked the columns of 3 datsets we have\n",
        "print(matches.dtypes)\n",
        "print(rank.dtypes)"
      ],
      "metadata": {
        "colab": {
          "base_uri": "https://localhost:8080/",
          "height": 0
        },
        "id": "M-RHqAmFm2q4",
        "outputId": "901733e0-07e9-4ef4-8080-20d40a855d12"
      },
      "execution_count": 18,
      "outputs": [
        {
          "output_type": "stream",
          "name": "stdout",
          "text": [
            "Year              int64\n",
            "Host             object\n",
            "Teams             int64\n",
            "Champion         object\n",
            "Runner-Up        object\n",
            "TopScorrer       object\n",
            "Attendance        int64\n",
            "AttendanceAvg     int64\n",
            "Matches           int64\n",
            "dtype: object\n",
            "home_team                           object\n",
            "away_team                           object\n",
            "home_score                           int64\n",
            "home_xg                            float64\n",
            "home_penalty                       float64\n",
            "away_score                           int64\n",
            "away_xg                            float64\n",
            "away_penalty                       float64\n",
            "home_manager                        object\n",
            "home_captain                        object\n",
            "away_manager                        object\n",
            "away_captain                        object\n",
            "Attendance                           int64\n",
            "Venue                               object\n",
            "Officials                           object\n",
            "Round                               object\n",
            "Date                                object\n",
            "Score                               object\n",
            "Referee                             object\n",
            "Notes                               object\n",
            "Host                                object\n",
            "Year                                 int64\n",
            "home_goal                           object\n",
            "away_goal                           object\n",
            "home_goal_long                      object\n",
            "away_goal_long                      object\n",
            "home_own_goal                       object\n",
            "away_own_goal                       object\n",
            "home_penalty_goal                   object\n",
            "away_penalty_goal                   object\n",
            "home_penalty_miss_long              object\n",
            "away_penalty_miss_long              object\n",
            "home_penalty_shootout_goal_long     object\n",
            "away_penalty_shootout_goal_long     object\n",
            "home_penalty_shootout_miss_long     object\n",
            "away_penalty_shootout_miss_long     object\n",
            "home_red_card                       object\n",
            "away_red_card                       object\n",
            "home_yellow_red_card                object\n",
            "away_yellow_red_card                object\n",
            "home_yellow_card_long               object\n",
            "away_yellow_card_long               object\n",
            "home_substitute_in_long             object\n",
            "away_substitute_in_long             object\n",
            "dtype: object\n",
            "team                object\n",
            "team_code           object\n",
            "association         object\n",
            "rank                 int64\n",
            "previous_rank        int64\n",
            "points             float64\n",
            "previous_points    float64\n",
            "dtype: object\n"
          ]
        }
      ]
    },
    {
      "cell_type": "code",
      "source": [
        "#change datatypes to imporve performance and accuracy of matches dataset\n",
        "matches['Date'] = pd.to_datetime(matches['Date'])\n",
        "matches['home_goal'] = pd.to_numeric(matches['home_goal'], errors='coerce').astype('Int64')\n",
        "matches['home_penalty'] = matches['home_penalty'].astype('Int64')\n",
        "matches['away_penalty'] = matches['away_penalty'].astype('Int64')\n",
        "matches['home_team'] = matches['home_team'].astype('category')"
      ],
      "metadata": {
        "id": "12DyIQq9nh2a"
      },
      "execution_count": 25,
      "outputs": []
    },
    {
      "cell_type": "code",
      "source": [
        "#change datatypes to imporve performance and accuracy of rank dataset\n",
        "rank['team'] = rank['team'].astype('category')\n",
        "rank['team_code'] = rank['team_code'].astype('category')\n",
        "rank['association'] = rank['association'].astype('category')"
      ],
      "metadata": {
        "id": "X41ade5bpjOO"
      },
      "execution_count": 27,
      "outputs": []
    },
    {
      "cell_type": "code",
      "source": [
        "#calculated percentage of missing values in matches column\n",
        "missing_percentage = (matches.isnull().sum() / matches.shape[0]) * 100\n",
        "print(missing_percentage)"
      ],
      "metadata": {
        "colab": {
          "base_uri": "https://localhost:8080/",
          "height": 0
        },
        "id": "IgEaE324rS3X",
        "outputId": "ba4a636d-b266-45a2-e188-bac3992a1621"
      },
      "execution_count": 30,
      "outputs": [
        {
          "output_type": "stream",
          "name": "stdout",
          "text": [
            "home_team                            0.000000\n",
            "away_team                            0.000000\n",
            "home_score                           0.000000\n",
            "home_xg                             86.721992\n",
            "home_penalty                        96.369295\n",
            "away_score                           0.000000\n",
            "away_xg                             86.721992\n",
            "away_penalty                        96.369295\n",
            "home_manager                         0.000000\n",
            "home_captain                        33.195021\n",
            "away_manager                         0.000000\n",
            "away_captain                        33.195021\n",
            "Attendance                           0.000000\n",
            "Venue                                0.000000\n",
            "Officials                           26.452282\n",
            "Round                                0.000000\n",
            "Date                                 0.000000\n",
            "Score                                0.000000\n",
            "Referee                             26.452282\n",
            "Notes                               92.427386\n",
            "Host                                 0.000000\n",
            "Year                                 0.000000\n",
            "home_goal                          100.000000\n",
            "away_goal                           40.767635\n",
            "home_goal_long                      25.518672\n",
            "away_goal_long                      40.767635\n",
            "home_own_goal                       95.954357\n",
            "away_own_goal                       98.236515\n",
            "home_penalty_goal                   87.966805\n",
            "away_penalty_goal                   91.286307\n",
            "home_penalty_miss_long              99.377593\n",
            "away_penalty_miss_long              99.066390\n",
            "home_penalty_shootout_goal_long     96.473029\n",
            "away_penalty_shootout_goal_long     96.473029\n",
            "home_penalty_shootout_miss_long     97.510373\n",
            "away_penalty_shootout_miss_long     96.887967\n",
            "home_red_card                       94.709544\n",
            "away_red_card                       94.398340\n",
            "home_yellow_red_card                97.614108\n",
            "away_yellow_red_card                96.784232\n",
            "home_yellow_card_long               35.580913\n",
            "away_yellow_card_long               34.958506\n",
            "home_substitute_in_long             23.236515\n",
            "away_substitute_in_long             22.510373\n",
            "dtype: float64\n"
          ]
        }
      ]
    },
    {
      "cell_type": "code",
      "source": [
        "columns_to_drop = ['home_goal_long', 'away_goal_long', # Changed 'home_goal', 'away_goal' to their _long counterparts\n",
        "                    'home_penalty', 'away_penalty',  # Kept these as they exist\n",
        "                    'home_yellow_card_long', 'away_yellow_card_long', # Kept _long counterparts\n",
        "                    'home_substitute_in_long', 'away_substitute_in_long']\n",
        "                     # Kept _long coun\n",
        "existing_columns = matches.columns\n",
        "\n",
        "columns_to_drop = [col for col in columns_to_drop if col in existing_columns]\n",
        "\n",
        "# Now drop the existing columns\n",
        "matches.drop(columns=columns_to_drop, inplace=True)"
      ],
      "metadata": {
        "id": "IGgxZO88s-WV"
      },
      "execution_count": 56,
      "outputs": []
    },
    {
      "cell_type": "code",
      "source": [
        "matches.columns   #updated columns after dropping"
      ],
      "metadata": {
        "colab": {
          "base_uri": "https://localhost:8080/",
          "height": 0
        },
        "id": "HIxa5I_8tT5J",
        "outputId": "a09b6df2-3045-4178-edef-cbe2043d88ab"
      },
      "execution_count": 58,
      "outputs": [
        {
          "output_type": "execute_result",
          "data": {
            "text/plain": [
              "Index(['home_team', 'away_team', 'home_score', 'away_score', 'home_manager',\n",
              "       'home_captain', 'away_manager', 'away_captain', 'Attendance', 'Venue',\n",
              "       'Officials', 'Round', 'Date', 'Score', 'Referee', 'Host', 'Year'],\n",
              "      dtype='object')"
            ]
          },
          "metadata": {},
          "execution_count": 58
        }
      ]
    },
    {
      "cell_type": "code",
      "source": [
        "missing_percentage = (matches.isnull().sum() / matches.shape[0]) * 100\n",
        "print(missing_percentage)  #updated percentage of missing values"
      ],
      "metadata": {
        "colab": {
          "base_uri": "https://localhost:8080/",
          "height": 0
        },
        "id": "jWVLRlwWtV4f",
        "outputId": "7ddf9e78-b50d-464f-f0b8-8adf688f29a5"
      },
      "execution_count": 59,
      "outputs": [
        {
          "output_type": "stream",
          "name": "stdout",
          "text": [
            "home_team       0.0\n",
            "away_team       0.0\n",
            "home_score      0.0\n",
            "away_score      0.0\n",
            "home_manager    0.0\n",
            "home_captain    0.0\n",
            "away_manager    0.0\n",
            "away_captain    0.0\n",
            "Attendance      0.0\n",
            "Venue           0.0\n",
            "Officials       0.0\n",
            "Round           0.0\n",
            "Date            0.0\n",
            "Score           0.0\n",
            "Referee         0.0\n",
            "Host            0.0\n",
            "Year            0.0\n",
            "dtype: float64\n"
          ]
        }
      ]
    },
    {
      "cell_type": "markdown",
      "source": [
        "now we have zero missing values"
      ],
      "metadata": {
        "id": "_i1-cjd2fS50"
      }
    },
    {
      "cell_type": "markdown",
      "source": [
        "1. Which teams have historically performed the best in the World Cup?"
      ],
      "metadata": {
        "id": "H14W8ysZ1dVc"
      }
    },
    {
      "cell_type": "code",
      "source": [
        "# To find the best performance we will sum value counts (no of unique values of\n",
        "# Champion and Runner up and arrange it in decending order .\n",
        "Champion=world_cup['Champion'].value_counts()\n",
        "Runner_up=world_cup['Runner-Up'].value_counts()\n",
        "\n",
        "top_teams=(Champion+Runner_up).sort_values(ascending=False)\n",
        "top_teams.head(5)\n"
      ],
      "metadata": {
        "colab": {
          "base_uri": "https://localhost:8080/",
          "height": 241
        },
        "id": "JngfSIBN3uHS",
        "outputId": "4e2eb05c-cf9b-4b8b-f21d-166ff333c009"
      },
      "execution_count": 78,
      "outputs": [
        {
          "output_type": "execute_result",
          "data": {
            "text/plain": [
              "Brazil          7.0\n",
              "Argentina       6.0\n",
              "Italy           6.0\n",
              "West Germany    5.0\n",
              "France          4.0\n",
              "Name: count, dtype: float64"
            ],
            "text/html": [
              "<div>\n",
              "<style scoped>\n",
              "    .dataframe tbody tr th:only-of-type {\n",
              "        vertical-align: middle;\n",
              "    }\n",
              "\n",
              "    .dataframe tbody tr th {\n",
              "        vertical-align: top;\n",
              "    }\n",
              "\n",
              "    .dataframe thead th {\n",
              "        text-align: right;\n",
              "    }\n",
              "</style>\n",
              "<table border=\"1\" class=\"dataframe\">\n",
              "  <thead>\n",
              "    <tr style=\"text-align: right;\">\n",
              "      <th></th>\n",
              "      <th>count</th>\n",
              "    </tr>\n",
              "  </thead>\n",
              "  <tbody>\n",
              "    <tr>\n",
              "      <th>Brazil</th>\n",
              "      <td>7.0</td>\n",
              "    </tr>\n",
              "    <tr>\n",
              "      <th>Argentina</th>\n",
              "      <td>6.0</td>\n",
              "    </tr>\n",
              "    <tr>\n",
              "      <th>Italy</th>\n",
              "      <td>6.0</td>\n",
              "    </tr>\n",
              "    <tr>\n",
              "      <th>West Germany</th>\n",
              "      <td>5.0</td>\n",
              "    </tr>\n",
              "    <tr>\n",
              "      <th>France</th>\n",
              "      <td>4.0</td>\n",
              "    </tr>\n",
              "  </tbody>\n",
              "</table>\n",
              "</div><br><label><b>dtype:</b> float64</label>"
            ]
          },
          "metadata": {},
          "execution_count": 78
        }
      ]
    },
    {
      "cell_type": "markdown",
      "source": [
        "so it can be found out as Brazil , Argentina , Italy , West Germany , France are the top 5 couontries"
      ],
      "metadata": {
        "id": "rrH5mK95ffMJ"
      }
    },
    {
      "cell_type": "markdown",
      "source": [
        "2. How has the average number of goals per game changed over the years?"
      ],
      "metadata": {
        "id": "2PbwKE65h4TX"
      }
    },
    {
      "cell_type": "code",
      "source": [
        "import pandas as pd\n",
        "import matplotlib.pyplot as plt\n",
        "\n",
        "\n",
        "# 1. Group matches by year and calculate the average goals per game\n",
        "goals_per_year = matches.groupby('Year')[['home_score', 'away_score']].sum()\n",
        "goals_per_year['total_goals'] = goals_per_year['home_score'] + goals_per_year['away_score']\n",
        "goals_per_year['avg_goals_per_game'] = goals_per_year['total_goals'] / matches.groupby('Year')['Year'].count()\n",
        "\n",
        "# 2. Create a line plot to visualize the trend\n",
        "plt.plot(goals_per_year.index, goals_per_year['avg_goals_per_game'])\n",
        "plt.xlabel(\"Year\")\n",
        "plt.ylabel(\"Average Goals per Game\")\n",
        "plt.title(\"Trend of Average Goals per Game in World Cup\")\n",
        "plt.grid(True)\n",
        "plt.show()\n",
        "\n",
        "# 3. Calculate and print overall average goals per game\n",
        "overall_avg_goals = goals_per_year['total_goals'].sum() / matches.shape[0]\n",
        "print(f\"Overall Average Goals per Game: {overall_avg_goals:.2f}\")"
      ],
      "metadata": {
        "colab": {
          "base_uri": "https://localhost:8080/",
          "height": 489
        },
        "id": "tYhrjJMzdFHy",
        "outputId": "0e30f8bb-6ca1-495c-e0b4-effda1d7e614"
      },
      "execution_count": 106,
      "outputs": [
        {
          "output_type": "display_data",
          "data": {
            "text/plain": [
              "<Figure size 640x480 with 1 Axes>"
            ],
            "image/png": "[encoded data removed]"
          },
          "metadata": {}
        },
        {
          "output_type": "stream",
          "name": "stdout",
          "text": [
            "Overall Average Goals per Game: 2.82\n"
          ]
        }
      ]
    },
    {
      "cell_type": "markdown",
      "source": [
        "3. What are the win ratios of notable teams when playing on their home ground?"
      ],
      "metadata": {
        "id": "sbIcJi3_mRSO"
      }
    },
    {
      "cell_type": "code",
      "source": [
        "team_wins = matches.groupby('home_team')['home_score'].sum()\n",
        "team_losses = matches.groupby('home_team')['away_score'].sum()\n",
        "\n",
        "team_win_ratios = team_wins / (team_wins+team_losses)\n",
        "print(team_win_ratios.sort_values(ascending=False).head(5))"
      ],
      "metadata": {
        "colab": {
          "base_uri": "https://localhost:8080/",
          "height": 0
        },
        "id": "Ld-kbkpBg7U9",
        "outputId": "fb5bf897-99db-4504-9299-0cba54010378"
      },
      "execution_count": 107,
      "outputs": [
        {
          "output_type": "stream",
          "name": "stdout",
          "text": [
            "home_team\n",
            "Norway           1.00\n",
            "Türkiye          1.00\n",
            "FR Yugoslavia    1.00\n",
            "Ukraine          1.00\n",
            "Yugoslavia       0.82\n",
            "dtype: float64\n"
          ]
        },
        {
          "output_type": "stream",
          "name": "stderr",
          "text": [
            "<ipython-input-107-45f459337996>:1: FutureWarning: The default of observed=False is deprecated and will be changed to True in a future version of pandas. Pass observed=False to retain current behavior or observed=True to adopt the future default and silence this warning.\n",
            "  team_wins = matches.groupby('home_team')['home_score'].sum()\n",
            "<ipython-input-107-45f459337996>:2: FutureWarning: The default of observed=False is deprecated and will be changed to True in a future version of pandas. Pass observed=False to retain current behavior or observed=True to adopt the future default and silence this warning.\n",
            "  team_losses = matches.groupby('home_team')['away_score'].sum()\n"
          ]
        }
      ]
    },
    {
      "cell_type": "markdown",
      "source": [
        "Norway, Türkiye, FR Yugoslavia, and Ukraine appear dominant at home based on this calculation"
      ],
      "metadata": {
        "id": "aM6bMgmJmBi6"
      }
    },
    {
      "cell_type": "markdown",
      "source": [
        "4.Number of goals scored by the top 5 players"
      ],
      "metadata": {
        "id": "ozg0ijDmsZoE"
      }
    },
    {
      "cell_type": "code",
      "source": [
        "# Assuming 'TopScorrer' column contains player names and their goals\n",
        "\n",
        "world_cup['Goals'] = world_cup['TopScorrer'].str[-2:].astype(int)  # Extract goals using slicing  # Extract goals\n",
        "world_cup['Player'] = world_cup['TopScorrer'].str.split(' - ').str[0] # Extract player names"
      ],
      "metadata": {
        "id": "IiXJfq4So4DK"
      },
      "execution_count": 127,
      "outputs": []
    },
    {
      "cell_type": "code",
      "source": [
        "player_goals = world_cup.groupby('Player')['Goals'].sum().reset_index()"
      ],
      "metadata": {
        "id": "h3jXPJzlqcva"
      },
      "execution_count": 128,
      "outputs": []
    },
    {
      "cell_type": "code",
      "source": [
        "top_5_players = player_goals.sort_values(by=['Goals'], ascending=False).head(5)"
      ],
      "metadata": {
        "id": "uENrnZylqguk"
      },
      "execution_count": 129,
      "outputs": []
    },
    {
      "cell_type": "code",
      "source": [
        "import matplotlib.pyplot as plt\n",
        "\n",
        "plt.figure(figsize=(8, 6))\n",
        "\n",
        "plt.bar(top_5_players['Player'], top_5_players['Goals'])\n",
        "\n",
        "plt.xlabel(\"Players\")\n",
        "plt.ylabel(\"Goals\")\n",
        "plt.title(\"Top 5 Players and Their Total Goals\")\n",
        "\n",
        "plt.xticks(rotation=45, ha='right')\n",
        "\n",
        "plt.tight_layout()\n",
        "\n",
        "plt.show()"
      ],
      "metadata": {
        "colab": {
          "base_uri": "https://localhost:8080/",
          "height": 607
        },
        "id": "OKZS0b1Wqlq6",
        "outputId": "c802394b-e3bc-4810-929b-1a894cca64a6"
      },
      "execution_count": 130,
      "outputs": [
        {
          "output_type": "display_data",
          "data": {
            "text/plain": [
              "<Figure size 800x600 with 1 Axes>"
            ],
            "image/png": "[encoded data removed]"
          },
          "metadata": {}
        }
      ]
    },
    {
      "cell_type": "code",
      "source": [],
      "metadata": {
        "id": "VMR5pC_DrIFG"
      },
      "execution_count": null,
      "outputs": []
    }
  ]
}